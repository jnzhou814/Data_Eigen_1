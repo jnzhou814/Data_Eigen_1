{
 "cells": [
  {
   "cell_type": "code",
   "execution_count": 17,
   "metadata": {},
   "outputs": [],
   "source": [
    "import pandas as pd\n",
    "import numpy as np\n",
    "import matplotlib.pyplot as plt\n",
    "from efficient_apriori import apriori"
   ]
  },
  {
   "cell_type": "code",
   "execution_count": 18,
   "metadata": {},
   "outputs": [
    {
     "name": "stdout",
     "output_type": "stream",
     "text": [
      "<class 'pandas.core.frame.DataFrame'>\n",
      "RangeIndex: 7501 entries, 0 to 7500\n",
      "Data columns (total 20 columns):\n",
      " #   Column  Non-Null Count  Dtype \n",
      "---  ------  --------------  ----- \n",
      " 0   0       7501 non-null   object\n",
      " 1   1       5747 non-null   object\n",
      " 2   2       4389 non-null   object\n",
      " 3   3       3345 non-null   object\n",
      " 4   4       2529 non-null   object\n",
      " 5   5       1864 non-null   object\n",
      " 6   6       1369 non-null   object\n",
      " 7   7       981 non-null    object\n",
      " 8   8       654 non-null    object\n",
      " 9   9       395 non-null    object\n",
      " 10  10      256 non-null    object\n",
      " 11  11      154 non-null    object\n",
      " 12  12      87 non-null     object\n",
      " 13  13      47 non-null     object\n",
      " 14  14      25 non-null     object\n",
      " 15  15      8 non-null      object\n",
      " 16  16      4 non-null      object\n",
      " 17  17      4 non-null      object\n",
      " 18  18      3 non-null      object\n",
      " 19  19      1 non-null      object\n",
      "dtypes: object(20)\n",
      "memory usage: 1.1+ MB\n"
     ]
    },
    {
     "data": {
      "text/plain": [
       "(7501, 20)"
      ]
     },
     "execution_count": 18,
     "metadata": {},
     "output_type": "execute_result"
    }
   ],
   "source": [
    "dataset = pd.read_csv(\"D://Market_Basket_Optimisation.csv\",header = None)\n",
    "dataset.info()\n",
    "dataset.shape"
   ]
  },
  {
   "cell_type": "code",
   "execution_count": 19,
   "metadata": {},
   "outputs": [],
   "source": [
    "# 将数据存放到transactions中\n",
    "transactions = []\n",
    "for i in range(0, dataset.shape[0]):\n",
    "    temp = []\n",
    "    for j in range(0, 20):\n",
    "        if str(dataset.values[i, j]) != 'nan':\n",
    "           temp.append(str(dataset.values[i, j]))\n",
    "    transactions.append(temp)"
   ]
  },
  {
   "cell_type": "code",
   "execution_count": 20,
   "metadata": {},
   "outputs": [
    {
     "name": "stdout",
     "output_type": "stream",
     "text": [
      "----------------------------------\n",
      "1\n",
      "频繁项集排序:\n",
      " [(('mineral water',), 1788), (('eggs',), 1348), (('spaghetti',), 1306), (('french fries',), 1282), (('chocolate',), 1229), (('green tea',), 991), (('milk',), 972), (('ground beef',), 737), (('frozen vegetables',), 715), (('pancakes',), 713), (('burgers',), 654), (('cake',), 608), (('cookies',), 603), (('escalope',), 595), (('low fat yogurt',), 574), (('shrimp',), 536), (('tomatoes',), 513), (('olive oil',), 494), (('frozen smoothie',), 475), (('turkey',), 469), (('chicken',), 450), (('whole wheat rice',), 439), (('grated cheese',), 393), (('cooking oil',), 383), (('soup',), 379), (('herb & pepper',), 371), (('honey',), 356), (('champagne',), 351), (('fresh bread',), 323), (('salmon',), 319), (('brownies',), 253), (('avocado',), 250), (('hot dogs',), 243), (('cottage cheese',), 239), (('tomato juice',), 228), (('butter',), 226), (('whole wheat pasta',), 221), (('red wine',), 211), (('yogurt cake',), 205), (('light mayo',), 204), (('energy bar',), 203), (('energy drink',), 200), (('pepper',), 199), (('ham',), 199), (('vegetables mix',), 193), (('cereals',), 193), (('muffins',), 181), (('oil',), 173), (('french wine',), 169), (('fresh tuna',), 167), (('strawberries',), 160), (('meatballs',), 157), (('almonds',), 153)]\n",
      "----------------------------------\n",
      "2\n",
      "频繁项集排序:\n",
      " [(('mineral water', 'spaghetti'), 448), (('chocolate', 'mineral water'), 395), (('eggs', 'mineral water'), 382), (('milk', 'mineral water'), 360), (('ground beef', 'mineral water'), 307), (('ground beef', 'spaghetti'), 294), (('chocolate', 'spaghetti'), 294), (('eggs', 'spaghetti'), 274), (('eggs', 'french fries'), 273), (('frozen vegetables', 'mineral water'), 268), (('milk', 'spaghetti'), 266), (('chocolate', 'french fries'), 258), (('mineral water', 'pancakes'), 253), (('french fries', 'mineral water'), 253), (('chocolate', 'eggs'), 249), (('chocolate', 'milk'), 241), (('green tea', 'mineral water'), 233), (('eggs', 'milk'), 231), (('burgers', 'eggs'), 216), (('french fries', 'green tea'), 214), (('frozen vegetables', 'spaghetti'), 209), (('mineral water', 'olive oil'), 207), (('french fries', 'spaghetti'), 207), (('cake', 'mineral water'), 206), (('green tea', 'spaghetti'), 199), (('eggs', 'green tea'), 191), (('pancakes', 'spaghetti'), 189), (('burgers', 'mineral water'), 183), (('mineral water', 'tomatoes'), 183), (('low fat yogurt', 'mineral water'), 180), (('french fries', 'milk'), 178), (('mineral water', 'shrimp'), 177), (('frozen vegetables', 'milk'), 177), (('chocolate', 'green tea'), 176), (('chocolate', 'ground beef'), 173), (('mineral water', 'soup'), 173), (('chocolate', 'frozen vegetables'), 172), (('olive oil', 'spaghetti'), 172), (('chicken', 'mineral water'), 171), (('ground beef', 'milk'), 165), (('burgers', 'french fries'), 165), (('eggs', 'pancakes'), 163), (('eggs', 'frozen vegetables'), 163), (('burgers', 'spaghetti'), 161), (('shrimp', 'spaghetti'), 159), (('spaghetti', 'tomatoes'), 157), (('frozen smoothie', 'mineral water'), 152), (('mineral water', 'whole wheat rice'), 151), (('cooking oil', 'mineral water'), 151), (('french fries', 'pancakes'), 151)]\n",
      "----------------------------------\n",
      "关联规则：\n",
      " [{olive oil} -> {mineral water}, {ground beef} -> {mineral water}, {soup} -> {mineral water}]\n"
     ]
    }
   ],
   "source": [
    "for itemset in itemsets.items():\n",
    "    print(\"----------------------------------\")\n",
    "    print(itemset[0])\n",
    "    sorted_itemset=sorted(itemset[1].items(),key=lambda x: x[1],reverse=True)\n",
    "    print(\"频繁项集排序:\\n\",sorted_itemset)\n",
    "print(\"----------------------------------\")\n",
    "print(\"关联规则：\\n\", rules)"
   ]
  },
  {
   "cell_type": "code",
   "execution_count": null,
   "metadata": {},
   "outputs": [],
   "source": []
  },
  {
   "cell_type": "code",
   "execution_count": null,
   "metadata": {},
   "outputs": [],
   "source": []
  }
 ],
 "metadata": {
  "kernelspec": {
   "display_name": "Python 3",
   "language": "python",
   "name": "python3"
  },
  "language_info": {
   "codemirror_mode": {
    "name": "ipython",
    "version": 3
   },
   "file_extension": ".py",
   "mimetype": "text/x-python",
   "name": "python",
   "nbconvert_exporter": "python",
   "pygments_lexer": "ipython3",
   "version": "3.7.6"
  }
 },
 "nbformat": 4,
 "nbformat_minor": 4
}
